{
 "cells": [
  {
   "cell_type": "markdown",
   "metadata": {},
   "source": [
    "# Python HTML web Scraping Examples\n",
    "\n",
    "## First Example\n",
    "This first example simply finds all the table cell tags that relate to Session Numbers.  The printout is clearly out of context having lost the association of each session number to its host course.\n",
    "\n",
    "When we find tags that contain the data of interest, note below that we can use the .text command to extract that text.\n",
    "\n",
    "Attribute values can be extracted by using square brackets with the attribute name (in string format) inside, just was we index dictionaries."
   ]
  },
  {
   "cell_type": "code",
   "execution_count": null,
   "metadata": {},
   "outputs": [],
   "source": [
    "from bs4 import BeautifulSoup\n",
    "\n",
    "htmlPath = './CourseSchedule.htm'\n",
    "f = open(htmlPath)\n",
    "htmlDoc = f.read()\n",
    "f.close()\n",
    "\n",
    "# parse html \n",
    "htmlParsed = BeautifulSoup(htmlDoc,\"lxml\")\n",
    "\n",
    "results = htmlParsed.find_all('td', attrs={'class' : 'Num'})\n",
    "print('Results: ',results)\n",
    "print()\n",
    "print('Number of tags found: ', len(results))\n",
    "print()\n",
    "print('Results Data Type: ', type(results))\n",
    "print()\n",
    "print('      Full Tag                      Tag Width   Class')\n",
    "for result in results:\n",
    "    print(result, ',', result.text, ',', result['width'], ',', result['class'])"
   ]
  },
  {
   "cell_type": "markdown",
   "metadata": {},
   "source": [
    "## Keeping the Context: Hierarchical Search\n",
    "In this example we first search for each course, and then find each of its sessions through a secondary search.\n",
    "\n",
    "Note, first , as show above that the data type returned by a Beautifulsoup .find_all() command is a ResultSet.  This is a data type defined in the Beautifulsoup package and it is, essentially, a list of HTML tags.  Each of those tags can be re-searched with Beautifulsoup."
   ]
  },
  {
   "cell_type": "code",
   "execution_count": 5,
   "metadata": {},
   "outputs": [
    {
     "name": "stdout",
     "output_type": "stream",
     "text": [
      "BUAD 5012 Competing Through Business Analytics:  1, 8:00 - 9:20 a.m., M W\n",
      "BUAD 5012 Competing Through Business Analytics:  2, 9:30 - 10:50 a.m., M W\n",
      "BUAD 5012 Competing Through Business Analytics:  3, 12:30 - 1:50 p.m., M W\n",
      "BUAD 5042 Heuristic Algorithms:  1, 8:00 - 9:20 a.m., T Th\n",
      "BUAD 5042 Heuristic Algorithms:  2, 9:30 - 10:50 a.m., T Th\n",
      "BUAD 5042 Heuristic Algorithms:  3, 12:30 - 1:50 p.m., T Th\n"
     ]
    }
   ],
   "source": [
    "from bs4 import BeautifulSoup\n",
    "\n",
    "htmlPath = './CourseSchedule.htm'\n",
    "f = open(htmlPath)\n",
    "htmlDoc = f.read()\n",
    "f.close()\n",
    "\n",
    "# parse html \n",
    "htmlParsed = BeautifulSoup(htmlDoc,\"lxml\")\n",
    "\n",
    "results1 = htmlParsed.find_all('table', attrs={'class' : 'Course'})\n",
    "#print('len(results1):',len(results1))\n",
    "#print('results1:',results1)\n",
    "\n",
    "#\"\"\"\n",
    "for result1 in results1:\n",
    "    results2a = result1.find('tr', attrs = {'class' : 'Name'})\n",
    "    courseName = results2a.text\n",
    "    results2b = result1.find_all('tr', attrs = {'class' : 'Session'})\n",
    "    #print('Course Name: ',courseName,'\\n results2b:',results2b)\n",
    "\n",
    "    for result2 in results2b:\n",
    "            results3a = result2.find_all('td', attrs = {'class' : 'Num'})\n",
    "            results3b = result2.find_all('td', attrs = {'class' : 'Time'})\n",
    "            results3c = result2.find_all('td', attrs = {'class' : 'Days'})\n",
    "\n",
    "            for i in range(len(results3a)):\n",
    "                print(courseName+': ', results3a[i].text+',', results3b[i].text+',', results3c[i].text)\n"
   ]
  },
  {
   "cell_type": "markdown",
   "metadata": {},
   "source": [
    "## Parsing Data from the Internet\n",
    "This code requests HTML data from a [site](https://www.basketball-reference.com/players/w/walljo01/gamelog-advanced/2017/) containing basketball data and, subsequently, retrieves data from it."
   ]
  },
  {
   "cell_type": "code",
   "execution_count": null,
   "metadata": {},
   "outputs": [],
   "source": [
    "from bs4 import BeautifulSoup  # Parsing HTML\n",
    "import requests  # Internet information requests\n",
    "import re        # Regular Expressions (Regex) package\n",
    "\n",
    "htmlPath = 'https://www.basketball-reference.com/players/w/walljo01/gamelog-advanced/2017/'\n",
    "htmlDoc = requests.get(htmlPath).content\n",
    "\n",
    "\"\"\" parse html \"\"\"\n",
    "htmlParsed = BeautifulSoup(htmlDoc, 'lxml')\n",
    "\"\"\" get data from one game: object games will be of the ResultType data type \"\"\"\n",
    "games = htmlParsed.find_all('tr', attrs={'id' : 'pgl_advanced.424'})  # Finds one row of data\n",
    "\"\"\" The next statement uses Regex to find all rows of data \"\"\"\n",
    "#games = htmlParsed.find_all('tr', attrs={'id' : re.compile('^pgl_advanced.')})  \n",
    "\n",
    "print('Number of games found:',len(games))\n",
    "print('Game stats are in data type:',type(games),'\\n')\n",
    "all_games = []  # set up an empty list in which to store the data \n",
    "for game in games:\n",
    "    new_game = []   #create empty list to store the data from the next game\n",
    "    for field in game.find_all('td'):\n",
    "        new_game.append(field.text)   # append next data point to the current game list\n",
    "        \n",
    "    all_games.append(new_game)        # append current game data list to overall list\n",
    "    \n",
    "    \n",
    "print('\\nHere\\'s the Data')\n",
    "print(all_games)"
   ]
  },
  {
   "cell_type": "code",
   "execution_count": null,
   "metadata": {
    "collapsed": true
   },
   "outputs": [],
   "source": []
  }
 ],
 "metadata": {
  "kernelspec": {
   "display_name": "Python 3",
   "language": "python",
   "name": "python3"
  },
  "language_info": {
   "codemirror_mode": {
    "name": "ipython",
    "version": 3
   },
   "file_extension": ".py",
   "mimetype": "text/x-python",
   "name": "python",
   "nbconvert_exporter": "python",
   "pygments_lexer": "ipython3",
   "version": "3.6.3"
  }
 },
 "nbformat": 4,
 "nbformat_minor": 2
}
