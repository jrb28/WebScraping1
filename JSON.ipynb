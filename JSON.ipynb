{
 "cells": [
  {
   "cell_type": "markdown",
   "metadata": {},
   "source": [
    "# JSON Examples"
   ]
  },
  {
   "cell_type": "markdown",
   "metadata": {},
   "source": [
    "We will need the json package in this Jupyter notebook."
   ]
  },
  {
   "cell_type": "code",
   "execution_count": 1,
   "metadata": {
    "collapsed": true
   },
   "outputs": [],
   "source": [
    "import json"
   ]
  },
  {
   "cell_type": "markdown",
   "metadata": {},
   "source": [
    "## This first example is the simplest JSON structure possible."
   ]
  },
  {
   "cell_type": "code",
   "execution_count": null,
   "metadata": {
    "collapsed": true
   },
   "outputs": [],
   "source": [
    "strSimple = '{\"name\" : \"CTBA\"}'  # create a str representing a JSON structure\n",
    "myJSON = json.loads(strSimple)\n",
    "print(myJSON)\n",
    "print(myJSON['name'])"
   ]
  },
  {
   "cell_type": "markdown",
   "metadata": {},
   "source": [
    "## This second example reads a simplified document representing our course schedule."
   ]
  },
  {
   "cell_type": "code",
   "execution_count": null,
   "metadata": {
    "collapsed": true
   },
   "outputs": [],
   "source": [
    "f = open('courseSchedule.json','r')\n",
    "lines = f.read()\n",
    "#print(lines)\n",
    "myJSON1 = json.loads(lines)\n",
    "print(myJSON1)\n",
    "print(type(myJSON1))"
   ]
  },
  {
   "cell_type": "markdown",
   "metadata": {},
   "source": [
    "Examples of accessing the data elements in the simplified course schedule."
   ]
  },
  {
   "cell_type": "code",
   "execution_count": null,
   "metadata": {
    "collapsed": true
   },
   "outputs": [],
   "source": [
    "myJSON1[\"schedule\"]"
   ]
  },
  {
   "cell_type": "code",
   "execution_count": null,
   "metadata": {
    "collapsed": true
   },
   "outputs": [],
   "source": [
    "len(myJSON1[\"schedule\"])"
   ]
  },
  {
   "cell_type": "markdown",
   "metadata": {},
   "source": [
    "Whenever a list is embedded in JSON data, elements of the lsit are accessed using numeical indices."
   ]
  },
  {
   "cell_type": "code",
   "execution_count": null,
   "metadata": {
    "collapsed": true
   },
   "outputs": [],
   "source": [
    "myJSON1[\"schedule\"][0]"
   ]
  },
  {
   "cell_type": "code",
   "execution_count": null,
   "metadata": {
    "collapsed": true
   },
   "outputs": [],
   "source": [
    "myJSON1[\"schedule\"][0]['course']['name']"
   ]
  },
  {
   "cell_type": "code",
   "execution_count": null,
   "metadata": {
    "collapsed": true
   },
   "outputs": [],
   "source": [
    "myJSON1[\"schedule\"][1]['course']['name']"
   ]
  },
  {
   "cell_type": "markdown",
   "metadata": {},
   "source": [
    "## Full Set of Course Schedule Data"
   ]
  },
  {
   "cell_type": "code",
   "execution_count": 2,
   "metadata": {},
   "outputs": [
    {
     "name": "stdout",
     "output_type": "stream",
     "text": [
      "{\"schedule\": \n",
      "    {\"courses\" :\n",
      "\t\t[\n",
      "\t\t\t{\"name\" : \"Competing Through Business Analytics\",\n",
      "\t\t\t \"number\" : \"BUAD 5012\",\n",
      "\t\t\t \"sessions\" : \n",
      "\t\t\t     [{\"num\" : 1, \"time\" : \"8:00 - 9:20 a.m.\", \"days\" : \"M W\"},\n",
      "\t\t\t\t  {\"num\" : 2, \"time\" : \"9:30 - 10:50 a.m.\", \"days\" : \"M W\"},\n",
      "\t\t\t\t  {\"num\" : 3, \"time\" : \"12:30 - 1:50 p.m.\", \"days\" : \"M W\"}\n",
      "\t\t\t\t ]\n",
      "\t\t\t}, \n",
      "\t\t\t{\"name\" : \"Heuristic Algorithms\",\n",
      "\t\t\t \"number\" : \"BUAD 5042\",\n",
      "\t\t\t \"sessions\" : \n",
      "\t\t\t     [{\"num\" : 1, \"time\" : \"8:00 - 9:20 a.m.\", \"days\" : \"T TH\"},\n",
      "\t\t\t\t  {\"num\" : 2, \"time\" : \"9:30 - 10:50 a.m.\", \"days\" : \"T TH\"},\n",
      "\t\t\t\t  {\"num\" : 3, \"time\" : \"12:30 - 1:50 p.m.\", \"days\" : \"T TH\"}\n",
      "\t\t\t\t ]\n",
      "\t\t\t}\n",
      "\t\t]\n",
      "\t}\n",
      "}\n",
      "{'schedule': {'courses': [{'name': 'Competing Through Business Analytics', 'number': 'BUAD 5012', 'sessions': [{'num': 1, 'time': '8:00 - 9:20 a.m.', 'days': 'M W'}, {'num': 2, 'time': '9:30 - 10:50 a.m.', 'days': 'M W'}, {'num': 3, 'time': '12:30 - 1:50 p.m.', 'days': 'M W'}]}, {'name': 'Heuristic Algorithms', 'number': 'BUAD 5042', 'sessions': [{'num': 1, 'time': '8:00 - 9:20 a.m.', 'days': 'T TH'}, {'num': 2, 'time': '9:30 - 10:50 a.m.', 'days': 'T TH'}, {'num': 3, 'time': '12:30 - 1:50 p.m.', 'days': 'T TH'}]}]}}\n",
      "<class 'dict'>\n"
     ]
    }
   ],
   "source": [
    "f = open('courseScheduleFull.json','r')\n",
    "lines = f.read()\n",
    "print(lines)\n",
    "myJSON2 = json.loads(lines)\n",
    "print(myJSON2)\n",
    "print(type(myJSON2))"
   ]
  },
  {
   "cell_type": "code",
   "execution_count": 3,
   "metadata": {},
   "outputs": [
    {
     "data": {
      "text/plain": [
       "'M W'"
      ]
     },
     "execution_count": 3,
     "metadata": {},
     "output_type": "execute_result"
    }
   ],
   "source": [
    "myJSON2['schedule']['courses'][0]['sessions'][0]['days']"
   ]
  },
  {
   "cell_type": "code",
   "execution_count": 4,
   "metadata": {},
   "outputs": [
    {
     "data": {
      "text/plain": [
       "'8:00 - 9:20 a.m.'"
      ]
     },
     "execution_count": 4,
     "metadata": {},
     "output_type": "execute_result"
    }
   ],
   "source": [
    "myJSON2['schedule']['courses'][0]['sessions'][0]['time']"
   ]
  },
  {
   "cell_type": "code",
   "execution_count": 5,
   "metadata": {},
   "outputs": [
    {
     "data": {
      "text/plain": [
       "1"
      ]
     },
     "execution_count": 5,
     "metadata": {},
     "output_type": "execute_result"
    }
   ],
   "source": [
    "myJSON2['schedule']['courses'][0]['sessions'][0]['num']"
   ]
  },
  {
   "cell_type": "code",
   "execution_count": 6,
   "metadata": {},
   "outputs": [
    {
     "data": {
      "text/plain": [
       "dict_keys(['num', 'time', 'days'])"
      ]
     },
     "execution_count": 6,
     "metadata": {},
     "output_type": "execute_result"
    }
   ],
   "source": [
    "myJSON2['schedule']['courses'][0]['sessions'][0].keys()"
   ]
  },
  {
   "cell_type": "code",
   "execution_count": 7,
   "metadata": {},
   "outputs": [
    {
     "data": {
      "text/plain": [
       "3"
      ]
     },
     "execution_count": 7,
     "metadata": {},
     "output_type": "execute_result"
    }
   ],
   "source": [
    "len(myJSON2['schedule']['courses'][0]['sessions'])"
   ]
  },
  {
   "cell_type": "markdown",
   "metadata": {},
   "source": [
    "## Parsing JSON Data from the Internet"
   ]
  },
  {
   "cell_type": "markdown",
   "metadata": {},
   "source": [
    "Companies revise their web site structures periodically.  The code below, therefore, will no longer work at some point in time.  Still, it remains a valid template for retrieving and parsing JSON data.\n",
    "\n",
    "Please also note that if you perform this exercise while choosing a different property, the data you will retrieve will vary from that in the presentation."
   ]
  },
  {
   "cell_type": "code",
   "execution_count": null,
   "metadata": {
    "collapsed": true
   },
   "outputs": [],
   "source": [
    "import requests\n",
    "\n",
    "url = 'https://www.airbnb.com/api/v2/calendar_months?key=d306zoyjsyarp7ifhu67rjxn52tv0t20&currency=USD&locale=en&listing_id=11944853&month=10&year=2018&count=3&_format=with_conditions'\n",
    "\n",
    "\"\"\" Two options for header text to send with our Internet infomration request \"\"\"\n",
    "#headerText = {}\n",
    "headerText = {\"User-Agent\": \"Mozilla/5.0 (Windows NT 6.1; WOW64) AppleWebKit/537.36 (KHTML, like Gecko) Chrome/50.0.2661.102 Safari/537.36\"}\n",
    "\n",
    "\"\"\" Request data \"\"\"\n",
    "response = requests.get(url, headers=headerText)\n",
    "json = response.json()\n",
    "#print(response.json())      # print entire response\n",
    "print('Number of months:', len(json['calendar_months']))\n",
    "\n",
    "\"\"\" Print select data fields \"\"\"\n",
    "print(json['calendar_months'][0]['days'][0]['date'])\n",
    "print(json['calendar_months'][0]['days'][0]['available'])\n",
    "print(json['calendar_months'][0]['days'][0]['price']['local_price_formatted'])\n",
    "\n",
    "\"\"\" Print the number of days data in each month \"\"\"\n",
    "template1 = 'Number of days in month %s: %s'\n",
    "for i in range(len(json['calendar_months'])):\n",
    "    print(template1 %(i,len(json['calendar_months'][i]['days'])))\n",
    "\n",
    "\"\"\" Print selected field for each day in each month \"\"\"\n",
    "for month in json['calendar_months']:\n",
    "    #print(month)\n",
    "    for day in month['days']:    #json['calendar_months'][]\n",
    "        #print(day)\n",
    "        print(day.keys())\n",
    "        #print(day['price'].keys())\n",
    "        #print(day['date'],day['available'], day['price']['local_price_formatted'])"
   ]
  },
  {
   "cell_type": "code",
   "execution_count": null,
   "metadata": {
    "collapsed": true
   },
   "outputs": [],
   "source": []
  }
 ],
 "metadata": {
  "kernelspec": {
   "display_name": "Python 3",
   "language": "python",
   "name": "python3"
  },
  "language_info": {
   "codemirror_mode": {
    "name": "ipython",
    "version": 3
   },
   "file_extension": ".py",
   "mimetype": "text/x-python",
   "name": "python",
   "nbconvert_exporter": "python",
   "pygments_lexer": "ipython3",
   "version": "3.6.3"
  }
 },
 "nbformat": 4,
 "nbformat_minor": 2
}
